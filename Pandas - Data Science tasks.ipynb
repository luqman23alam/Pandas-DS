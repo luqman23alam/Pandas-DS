{
 "cells": [
  {
   "cell_type": "code",
   "execution_count": null,
   "metadata": {},
   "outputs": [],
   "source": [
    "import os\n",
    "import pandas as pd\n",
    "import numpy as np\n",
    "import matplotlib.pyplot as plt\n",
    "import matplotlib.gridspec as gridspec\n",
    "import datetime"
   ]
  },
  {
   "cell_type": "markdown",
   "metadata": {},
   "source": [
    "## 1. Extract data from files"
   ]
  },
  {
   "cell_type": "code",
   "execution_count": null,
   "metadata": {},
   "outputs": [],
   "source": [
    "\n",
    "df = pd.DataFrame()\n",
    "\n",
    "files = [file for file in os.listdir('./SalesAnalysis/Sales_Data/')]\n",
    "\n",
    "for file in files:\n",
    "    \n",
    "    data = pd.read_csv('./SalesAnalysis/Sales_Data/'+file)\n",
    "    df = pd.concat([df, data])\n",
    "\n",
    "\n",
    "df.to_csv('./SalesAnalysis/all_data.csv',index=False)\n",
    "df.head()\n",
    "\n"
   ]
  },
  {
   "cell_type": "code",
   "execution_count": null,
   "metadata": {},
   "outputs": [],
   "source": [
    "df.shape"
   ]
  },
  {
   "cell_type": "markdown",
   "metadata": {},
   "source": [
    "## 2. Data cleansing "
   ]
  },
  {
   "cell_type": "code",
   "execution_count": null,
   "metadata": {},
   "outputs": [],
   "source": [
    "## Drop nan rows\n",
    "nan_df = df[df.isna().any(axis=1)]\n",
    "\n",
    "##drop all nan \n",
    "df = df.dropna(how='all')\n"
   ]
  },
  {
   "cell_type": "code",
   "execution_count": null,
   "metadata": {},
   "outputs": [],
   "source": [
    "## drop duplicated header rows - could be done when importing the data\n",
    "df = df[df['Order Date'].str[0:2] != 'Or']"
   ]
  },
  {
   "cell_type": "code",
   "execution_count": null,
   "metadata": {},
   "outputs": [],
   "source": [
    "df['Order Date'] = pd.to_datetime(df['Order Date'])\n",
    "df['Quantity Ordered'] = pd.to_numeric(df['Quantity Ordered'])\n",
    "df['Price Each'] = pd.to_numeric(df['Price Each'])\n",
    "df.head()"
   ]
  },
  {
   "cell_type": "code",
   "execution_count": null,
   "metadata": {},
   "outputs": [],
   "source": []
  },
  {
   "cell_type": "code",
   "execution_count": null,
   "metadata": {},
   "outputs": [],
   "source": [
    "## Business Question 1: What is the best month for sales and total sales in that month?"
   ]
  },
  {
   "cell_type": "code",
   "execution_count": null,
   "metadata": {},
   "outputs": [],
   "source": [
    "## add hour, month and total sales columns\n",
    "df['Sales'] = df['Quantity Ordered'] * df['Price Each']\n",
    "df['Month'] = pd.DatetimeIndex(df['Order Date']).month\n",
    "df['Hours'] = pd.DatetimeIndex(df['Order Date']).hour\n"
   ]
  },
  {
   "cell_type": "code",
   "execution_count": null,
   "metadata": {},
   "outputs": [],
   "source": [
    "## Apply function to extract data\n",
    "\n",
    "def get_city(address):\n",
    "    return address.split(',')[1] \n",
    "\n",
    "def get_state(address):\n",
    "    return address.split(',')[2].split(' ')[1]\n",
    "\n",
    "\n",
    "df['City'] = df['Purchase Address'].apply(lambda x: f\"{get_city(x)} ({get_state(x)})\")"
   ]
  },
  {
   "cell_type": "code",
   "execution_count": null,
   "metadata": {},
   "outputs": [],
   "source": [
    "df.head()"
   ]
  },
  {
   "cell_type": "code",
   "execution_count": null,
   "metadata": {},
   "outputs": [],
   "source": [
    "%matplotlib inline"
   ]
  },
  {
   "cell_type": "code",
   "execution_count": null,
   "metadata": {},
   "outputs": [],
   "source": [
    "df_Months = df[['Month','Sales']]\n",
    "results = df_Months.groupby('Month').sum()\n",
    "months = range(1,13)"
   ]
  },
  {
   "cell_type": "code",
   "execution_count": null,
   "metadata": {},
   "outputs": [],
   "source": [
    "plt.bar(months, results['Sales'])\n",
    "plt.xticks(months)\n",
    "plt.ylabel('Sales in USD')\n",
    "plt.xlabel('Months')"
   ]
  },
  {
   "cell_type": "markdown",
   "metadata": {},
   "source": [
    "## Business Question 2: What city has the highest number of sales"
   ]
  },
  {
   "cell_type": "code",
   "execution_count": null,
   "metadata": {},
   "outputs": [],
   "source": [
    "df_Cities = df[['City','Sales']]\n",
    "\n",
    "## to aviod inconsistancies\n",
    "cities = [city for city , df in df_Cities.groupby('City')]\n",
    "results = df_Cities.groupby('City').sum()\n",
    "\n",
    "plt.bar(cities, results['Sales'])\n",
    "plt.xticks(cities,rotation='vertical')\n",
    "plt.ylabel('Sales')\n",
    "plt.xlabel('Cities')"
   ]
  },
  {
   "cell_type": "code",
   "execution_count": null,
   "metadata": {},
   "outputs": [],
   "source": [
    "df_Cities_Months = df[['Month','City','Sales']]\n",
    "\n",
    "df_Cities_Months.groupby(['Month','City']).sum().unstack().plot(kind='line',stacked = False)\n",
    "plt.legend(loc='center left', bbox_to_anchor=(1, 0.5))\n",
    "plt.show()"
   ]
  },
  {
   "cell_type": "code",
   "execution_count": null,
   "metadata": {},
   "outputs": [],
   "source": []
  },
  {
   "cell_type": "raw",
   "metadata": {},
   "source": [
    "## Sales in each city Seperate graphs\n",
    "\n",
    "fig, axs = plt.subplots(len(cities), figsize=(10,50))\n",
    "month = range(1,13)\n",
    "\n",
    "for index, city in enumerate(cities):\n",
    "    df_Month_Cities_tmp = df_Month_Cities_Grouped[df_Month_Cities_Grouped['City'] == city]\n",
    "    df_Month_Cities_tmp = df_Month_Cities_tmp.groupby('Month').sum()\n",
    "    df_Month_Cities_tmp = df_Month_Cities_tmp.reset_index()\n",
    "\n",
    "    axs[index].bar(months, df_Month_Cities_tmp['Sales'])\n",
    "    axs[index].set_title(city)\n",
    "    axs[index].set_xticks(month)\n",
    "    axs[index].set_xticklabels(month, fontsize=12)\n",
    "    \n",
    "for ax in fig.get_axes():\n",
    "    ax.label_outer()\n",
    "    ##ax.xticklabels(month, fontsize=12)\n",
    "\n"
   ]
  },
  {
   "cell_type": "markdown",
   "metadata": {},
   "source": [
    "## Business Question 3: What time should we display advertisements to maximise conversion rate?"
   ]
  },
  {
   "cell_type": "code",
   "execution_count": null,
   "metadata": {},
   "outputs": [],
   "source": [
    "df_month_group_hours = df[['City','Hours','Quantity Ordered']]\n",
    "df_month_group_hours = df_month_group_hours.groupby('Hours').count()\n",
    "hours = [hour for hour, df in df_month_group_hours.groupby('Hours')]"
   ]
  },
  {
   "cell_type": "code",
   "execution_count": null,
   "metadata": {},
   "outputs": [],
   "source": [
    "plt.plot(hours, df_month_group_hours['Quantity Ordered'])\n",
    "plt.xticks(hours)\n",
    "plt.ylabel('Quantit')\n",
    "plt.xlabel('Hours')\n"
   ]
  },
  {
   "cell_type": "code",
   "execution_count": null,
   "metadata": {},
   "outputs": [],
   "source": []
  },
  {
   "cell_type": "code",
   "execution_count": null,
   "metadata": {},
   "outputs": [],
   "source": [
    "df_month_group_hours = df[['City','Hours','Quantity Ordered']]\n",
    "df_month_group_hours = df_month_group_hours.groupby(['Hours','City']).sum().unstack().plot(kind='line',stacked = False)\n",
    "plt.legend(loc='center left', bbox_to_anchor=(1, 0.5))\n",
    "plt.show()\n",
    "\n"
   ]
  },
  {
   "cell_type": "markdown",
   "metadata": {},
   "source": [
    "## Business Question 4: What products were sold together?"
   ]
  },
  {
   "cell_type": "code",
   "execution_count": null,
   "metadata": {},
   "outputs": [],
   "source": [
    "df_duplicate_OI = df[df['Order ID'].duplicated(keep=False)]\n",
    "df_duplicate_OI['Grouped_Prod'] = df_duplicate_OI.groupby('Order ID')['Product'].transform(lambda x: ',' .join(x))\n",
    "\n",
    "df_duplicate_OI = df_duplicate_OI[['Order ID','Grouped_Prod']].drop_duplicates()\n",
    "#df_duplicate_OI"
   ]
  },
  {
   "cell_type": "code",
   "execution_count": null,
   "metadata": {},
   "outputs": [],
   "source": [
    "from itertools import combinations\n",
    "from collections import Counter"
   ]
  },
  {
   "cell_type": "code",
   "execution_count": null,
   "metadata": {},
   "outputs": [],
   "source": [
    "## to get 2 items sold together\n",
    "\n",
    "count = Counter()\n",
    "\n",
    "for row in df_duplicate_OI['Grouped_Prod']:\n",
    "    row_list = row.split(',')\n",
    "    count.update(Counter(combinations(row_list, 2)))\n",
    "\n",
    "print(count.most_common(10))"
   ]
  },
  {
   "cell_type": "markdown",
   "metadata": {},
   "source": [
    "## Business Question 5: What product was sold most\n"
   ]
  },
  {
   "cell_type": "code",
   "execution_count": null,
   "metadata": {},
   "outputs": [],
   "source": [
    "df_product_Grouped_All = df.groupby('Product')\n",
    "quantity_ordered = df_product_Grouped_All.sum()['Quantity Ordered']\n",
    "df_prices = df.groupby('Product').mean()['Price Each']\n",
    "\n",
    "products = [product for product, df in df_product_Grouped_All]\n",
    "\n",
    "fig, ax1 = plt.subplots()\n",
    "\n",
    "ax2 = ax1.twinx()\n",
    "ax1.bar(products, quantity_ordered)\n",
    "ax2.plot(products, df_prices, color='r')\n",
    "\n",
    "\n",
    "ax1.set_xlabel('Products')\n",
    "ax1.set_ylabel('Quantity')\n",
    "ax2.set_ylabel('Prices (Avg)', color = 'r')\n",
    "ax1.set_xticklabels(products, fontsize=8, rotation = 'vertical')\n",
    "plt.show()\n",
    "\n"
   ]
  },
  {
   "cell_type": "code",
   "execution_count": null,
   "metadata": {},
   "outputs": [],
   "source": [
    "df_Product_month_group = df[['Product','Month','Quantity Ordered']]\n",
    "df_Product_month_group = df_Product_month_group.groupby(['Month','Product']).sum()\n",
    "df_Product_month_group.reset_index\n"
   ]
  },
  {
   "cell_type": "code",
   "execution_count": null,
   "metadata": {},
   "outputs": [],
   "source": [
    "df_Product_month_group.unstack().plot(kind='line',stacked = False)\n",
    "plt.legend(loc='center left', bbox_to_anchor=(1, 0.5))\n",
    "plt.show()\n"
   ]
  },
  {
   "cell_type": "code",
   "execution_count": null,
   "metadata": {},
   "outputs": [],
   "source": [
    "# Top 5 product sold\n",
    "df_Product_grp_Qty = df[['Product','Quantity Ordered']]\n",
    "df_Product_grp_Qty = df_Product_grp_Qty.groupby(['Product']).sum()\n",
    "df_Product_grp_Qty.reset_index\n",
    "\n",
    "df_Product_grp_Qty['Ranking'] = df_Product_grp_Qty['Quantity Ordered'].rank(method='dense',ascending=False)\n",
    "df_Product_grp_Qty = df_Product_grp_Qty[df_Product_grp_Qty['Ranking'] <=5].sort_values(by=['Ranking']) \n",
    "\n",
    "df_Product_grp_Sales = df[['Product','Sales']]\n",
    "df_Product_grp_Sales = df_Product_grp_Sales.groupby(['Product']).sum()\n",
    "\n",
    "pd.merge(df_Product_grp_Qty, df_Product_grp_Sales, on='Product', how= 'left' )\n"
   ]
  },
  {
   "cell_type": "code",
   "execution_count": null,
   "metadata": {},
   "outputs": [],
   "source": []
  },
  {
   "cell_type": "code",
   "execution_count": null,
   "metadata": {},
   "outputs": [],
   "source": []
  }
 ],
 "metadata": {
  "kernelspec": {
   "display_name": "Python 3.7.4 64-bit ('base': conda)",
   "language": "python",
   "name": "python37464bitbasecondada6da35f3f0c4224aa5bf9d7a55c9413"
  },
  "language_info": {
   "codemirror_mode": {
    "name": "ipython",
    "version": 3
   },
   "file_extension": ".py",
   "mimetype": "text/x-python",
   "name": "python",
   "nbconvert_exporter": "python",
   "pygments_lexer": "ipython3",
   "version": "3.7.4"
  }
 },
 "nbformat": 4,
 "nbformat_minor": 2
}
